{
 "cells": [
  {
   "cell_type": "markdown",
   "metadata": {},
   "source": [
    "## Цикл while\n",
    "\n",
    "Этот цикл позволяет выполнять одни и те же действия, пока выполняется условие. Сначала записывается условие, а на следующей строке (строках) после отступа -- действие, которое нжно выполнить при соблюдении условия."
   ]
  },
  {
   "cell_type": "code",
   "execution_count": 1,
   "metadata": {
    "collapsed": false
   },
   "outputs": [
    {
     "name": "stdout",
     "output_type": "stream",
     "text": [
      "Введите слово\n",
      "python\n",
      "python\n",
      "pytho\n",
      "pyth\n",
      "pyt\n",
      "py\n",
      "p\n"
     ]
    }
   ],
   "source": [
    "word = input(\"Введите слово\\n\")\n",
    "\n",
    "# на каждой итерации отрезаем от слова последнюю букву, пока букв не останется\n",
    "while len(word) > 0:\n",
    "    print(word)\n",
    "    word = word[:-1] "
   ]
  },
  {
   "cell_type": "markdown",
   "metadata": {},
   "source": [
    "После тела цикла можно написать слово else, а после него -- блок операций, который будет выполнен **один** раз после окончания цикла, когда проверяемое условие станет неверно. Добавим в предыдущий цикл else."
   ]
  },
  {
   "cell_type": "code",
   "execution_count": 4,
   "metadata": {
    "collapsed": false
   },
   "outputs": [
    {
     "name": "stdout",
     "output_type": "stream",
     "text": [
      "Введите слово\n",
      "python\n",
      "python\n",
      "pytho\n",
      "pyth\n",
      "pyt\n",
      "py\n",
      "p\n",
      "Букв больше нет!\n"
     ]
    }
   ],
   "source": [
    "word = input(\"Введите слово\\n\")\n",
    "\n",
    "while len(word) > 0:\n",
    "    print(word)\n",
    "    word = word[:-1] \n",
    "else:\n",
    "    print(\"Букв больше нет!\")"
   ]
  },
  {
   "cell_type": "markdown",
   "metadata": {},
   "source": [
    "## Цикл for\n",
    "\n",
    "Этот цикл проходится по любому итерируемому объекту и во время каждого прохода (итерации) выполняет действия, описанные в теле цикла. Вспомним, какие объекты являются итерируемыми:\n",
    "\n",
    "* строка\n",
    "* список\n",
    "* кортеж\n",
    "* диапазон"
   ]
  },
  {
   "cell_type": "code",
   "execution_count": 3,
   "metadata": {
    "collapsed": false
   },
   "outputs": [
    {
     "name": "stdout",
     "output_type": "stream",
     "text": [
      "красный\n",
      "оранжевый\n",
      "жёлтый\n",
      "зелёный\n",
      "голубой\n",
      "синий\n",
      "фиолетовый\n"
     ]
    }
   ],
   "source": [
    "rainbow = ['красный', 'оранжевый', 'жёлтый', 'зелёный', 'голубой', 'синий', 'фиолетовый']\n",
    "\n",
    "# итерация по списку\n",
    "for colour in rainbow:\n",
    "    print(colour)"
   ]
  },
  {
   "cell_type": "code",
   "execution_count": 5,
   "metadata": {
    "collapsed": false
   },
   "outputs": [
    {
     "name": "stdout",
     "output_type": "stream",
     "text": [
      "Введите слово\n",
      "python\n",
      "p y t h o n "
     ]
    }
   ],
   "source": [
    "word = input(\"Введите слово\\n\")\n",
    "\n",
    "# разреженный текст\n",
    "for letter in word:\n",
    "    print(letter + ' ', end = '')"
   ]
  },
  {
   "cell_type": "markdown",
   "metadata": {},
   "source": [
    "## Итерация по ключам и значениям словаря\n",
    "\n",
    "Вспоминаем методы `keys()`, `values()` и `items()` из прошлого семинара."
   ]
  },
  {
   "cell_type": "code",
   "execution_count": 7,
   "metadata": {
    "collapsed": false
   },
   "outputs": [
    {
     "name": "stdout",
     "output_type": "stream",
     "text": [
      "I have been to Russia\n",
      "I have been to France\n",
      "I have been to Turkey\n",
      "I have been to Georgia\n",
      "There is a city called Moscow\n",
      "There is a city called Paris\n",
      "There is a city called Ankara\n",
      "There is a city called Tbilisi\n",
      "Moscow is the capital of Russia\n",
      "Paris is the capital of France\n",
      "Ankara is the capital of Turkey\n",
      "Tbilisi is the capital of Georgia\n"
     ]
    }
   ],
   "source": [
    "capitals = {\"Russia\": \"Moscow\", \"France\": \"Paris\", \"Turkey\": \"Ankara\", \"Georgia\": \"Tbilisi\"}\n",
    "\n",
    "# итерация по ключам словаря\n",
    "for key in capitals.keys():\n",
    "    print(\"I have been to\", key)\n",
    "    \n",
    "# итерация по значениям словаря\n",
    "for value in capitals.values():\n",
    "    print(\"There is a city called\", value)\n",
    "    \n",
    "# итерация по ключам и значениям\n",
    "for k, v in capitals.items():\n",
    "    print(v, \"is the capital of\", k)"
   ]
  },
  {
   "cell_type": "markdown",
   "metadata": {},
   "source": [
    "## Функция range()\n",
    "\n",
    "Для повторения цикла некоторое заданное число раз n можно использовать цикл `for` вместе с функцией `range()`."
   ]
  },
  {
   "cell_type": "code",
   "execution_count": 10,
   "metadata": {
    "collapsed": false
   },
   "outputs": [
    {
     "name": "stdout",
     "output_type": "stream",
     "text": [
      "a!\n",
      "aa!\n",
      "aaa!\n",
      "aaaa!\n",
      "aaaaa!\n",
      "aaaaaa!\n",
      "aaaaaaa!\n",
      "aaaaaaaa!\n",
      "aaaaaaaaa!\n",
      "aaaaaaaaaa!\n"
     ]
    }
   ],
   "source": [
    "# до 10\n",
    "for i in range(10): \n",
    "    print(\"a\" * (i+1), \"!\", sep=\"\")   "
   ]
  },
  {
   "cell_type": "code",
   "execution_count": 11,
   "metadata": {
    "collapsed": false
   },
   "outputs": [
    {
     "name": "stdout",
     "output_type": "stream",
     "text": [
      "aaaaa!\n",
      "aaaaaa!\n",
      "aaaaaaa!\n",
      "aaaaaaaa!\n",
      "aaaaaaaaa!\n"
     ]
    }
   ],
   "source": [
    "# от 5 до 10\n",
    "for i in range(5, 10): \n",
    "    print(\"a\" * i, \"!\", sep=\"\")  "
   ]
  },
  {
   "cell_type": "code",
   "execution_count": 14,
   "metadata": {
    "collapsed": false
   },
   "outputs": [
    {
     "name": "stdout",
     "output_type": "stream",
     "text": [
      "aaaaa!\n",
      "aaaaaa!\n",
      "aaaaaaa!\n",
      "aaaaaaaa!\n",
      "aaaaaaaaa!\n"
     ]
    }
   ],
   "source": [
    "# от 5 до 10 с шагом 2\n",
    "for i in range(5, 10, ): \n",
    "    print(\"a\" * i, \"!\", sep=\"\")   "
   ]
  },
  {
   "cell_type": "markdown",
   "metadata": {},
   "source": [
    "## continue\n",
    "\n",
    "Оператор `continue` начинает следующий проход цикла, минуя оставшееся тело цикла (for или while). Иными словами, если continue встречается где-то посередине цикла, то пропускаются все оставшиеся действия до его конца, и исполнение цикла продолжается со следующей итерации. "
   ]
  },
  {
   "cell_type": "code",
   "execution_count": 20,
   "metadata": {
    "collapsed": false
   },
   "outputs": [
    {
     "name": "stdout",
     "output_type": "stream",
     "text": [
      "cat\n",
      "is\n",
      "on\n",
      "mat\n"
     ]
    }
   ],
   "source": [
    "for word in \"the cat is on the mat\".split():\n",
    "    if word == \"the\":\n",
    "        continue\n",
    "    print(word)"
   ]
  },
  {
   "cell_type": "markdown",
   "metadata": {},
   "source": [
    "## break\n",
    "\n",
    "Оператор `break` досрочно прерывает цикл. Не итерацию, в отличие от continue, а цикл вообще!"
   ]
  },
  {
   "cell_type": "code",
   "execution_count": 18,
   "metadata": {
    "collapsed": false
   },
   "outputs": [
    {
     "name": "stdout",
     "output_type": "stream",
     "text": [
      "the\n",
      "cat\n"
     ]
    }
   ],
   "source": [
    "for word in \"the cat is on the mat\".split():\n",
    "    if len(word) < 3:\n",
    "        break\n",
    "    print(word)"
   ]
  },
  {
   "cell_type": "markdown",
   "metadata": {},
   "source": [
    "### Задание 1\n",
    "\n",
    "По любому натуральному числу n вычислить \n",
    "\n",
    "$1^2 + 2^2 + 3^2 + \\dots + n^2$\n",
    "\n",
    "\n",
    "### Задание 2 \n",
    "\n",
    "Дан словарь `{\"Russia\": \"Moscow\", \"France\": \"Paris\", \"Turkey\": \"Ankara\", \"Georgia\": \"Tbilisi\", \"Italy\": \"Rome\", \"Great Britain\": \"London\"}`. Необходимо проитерироваться по элементам словаря и выводить все ключи и значения, пока не встретится ключ \"Italy\".\n",
    "\n",
    "### Задание 3*\n",
    "\n",
    "Дан текст (можно взять любой, необязательно этот):\n",
    "\n",
    "> варкалось хливкие шорьки пырялись по наве и хрюкотали зелюки как мюмзики в мове о бойся бармаглота сын он так свирлеп и дик а в глyще рымит исполин злопастный брандашмыг\n",
    "\n",
    "Необходимо выделить все биграммы в этом тексте и сохранить их список в какую-либо переменную. **Биграммы** -- это пары стоящих рядом слов, например, \"варкалось хливкие\", \"хливкие шорьки\"  и т.д. \n",
    "\n",
    "**Подсказка №1**: текст нужно разбить на слова с помощью функции `split()`, а потом использовать цикл `for` для создания списка биграмм. На каждой итерации цикла нужно печатать биграмму, а потом добавлять ее в список. \n",
    "\n",
    "**Подсказка №2**: количество биграмм в тексте = количество слов в тексте - 1. \n"
   ]
  }
 ],
 "metadata": {
  "kernelspec": {
   "display_name": "Python 3",
   "language": "python",
   "name": "python3"
  },
  "language_info": {
   "codemirror_mode": {
    "name": "ipython",
    "version": 3
   },
   "file_extension": ".py",
   "mimetype": "text/x-python",
   "name": "python",
   "nbconvert_exporter": "python",
   "pygments_lexer": "ipython3",
   "version": "3.6.0"
  }
 },
 "nbformat": 4,
 "nbformat_minor": 2
}
