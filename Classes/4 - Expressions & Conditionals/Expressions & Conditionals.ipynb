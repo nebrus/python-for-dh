{
 "cells": [
  {
   "cell_type": "markdown",
   "metadata": {},
   "source": [
    "## Структуры данных\n",
    "\n",
    "Вы уже знаете, что данные бывают разных типов. Кроме того, они могут быть по-разному организованы. То, в каком виде хранится некоторый набор данных -- это и есть структура. \n",
    "\n",
    "### Списки\n",
    "\n",
    "**Список**, или **массив** (list) -- это такая структура данных, где все элементы имеют порядковый номер (**индекс**), по которому их можно вызвать. Элементы могут повторяться (т.е. в ячейках с разными индексами могут быть записаны переменные с одинаковым значением / одинаковые константы). В списке могут храниться данные разных типов. Записывается в [ ]."
   ]
  },
  {
   "cell_type": "code",
   "execution_count": 12,
   "metadata": {},
   "outputs": [
    {
     "name": "stdout",
     "output_type": "stream",
     "text": [
      "[4.89, 5, 'spam', True, 'spam', 'hello']\n"
     ]
    }
   ],
   "source": [
    "# создать список можно так\n",
    "\n",
    "a = 5\n",
    "b = \"hello\"\n",
    "\n",
    "my_list = [4.89, a, \"spam\", True, \"spam\", b]\n",
    "print(my_list)"
   ]
  },
  {
   "cell_type": "code",
   "execution_count": 13,
   "metadata": {},
   "outputs": [
    {
     "name": "stdout",
     "output_type": "stream",
     "text": [
      "['The', 'cat', 'is', 'on', 'the', 'mat']\n",
      "['T', 'h', 'e', ' ', 'c', 'a', 't', ' ', 'i', 's', ' ', 'o', 'n', ' ', 't', 'h', 'e', ' ', 'm', 'a', 't']\n"
     ]
    }
   ],
   "source": [
    "# а можно так\n",
    "\n",
    "sentence = \"The cat is on the mat\"\n",
    "letters = list(sentence)  # разбивает строку на минимальные элементы, т.е. посимвольно\n",
    "words = sentence.split()  # разбивает строку на слова по пробелам\n",
    "\n",
    "print(words)\n",
    "print(letters)"
   ]
  },
  {
   "cell_type": "markdown",
   "metadata": {},
   "source": [
    "`list()` принимает на вход только 1 аргумент. **Аргумент функции** -- это то, что в скобочках :) Этот аргумент должен быть итерируемым (строка или любая структура данных), т.е. из числа список сделать не получится!"
   ]
  },
  {
   "cell_type": "code",
   "execution_count": 14,
   "metadata": {},
   "outputs": [
    {
     "ename": "TypeError",
     "evalue": "'int' object is not iterable",
     "output_type": "error",
     "traceback": [
      "\u001b[0;31m---------------------------------------------------------------------------\u001b[0m",
      "\u001b[0;31mTypeError\u001b[0m                                 Traceback (most recent call last)",
      "\u001b[0;32m<ipython-input-14-60ecfa1cf9e6>\u001b[0m in \u001b[0;36m<module>\u001b[0;34m()\u001b[0m\n\u001b[0;32m----> 1\u001b[0;31m \u001b[0mnumbers\u001b[0m \u001b[1;33m=\u001b[0m \u001b[0mlist\u001b[0m\u001b[1;33m(\u001b[0m\u001b[1;36m123\u001b[0m\u001b[1;33m)\u001b[0m\u001b[1;33m\u001b[0m\u001b[0m\n\u001b[0m",
      "\u001b[0;31mTypeError\u001b[0m: 'int' object is not iterable"
     ]
    }
   ],
   "source": [
    "numbers = list(123)"
   ]
  },
  {
   "cell_type": "markdown",
   "metadata": {},
   "source": [
    "А что такое `split()`? Это **метод**, который позволяет разбить строку на элементы по определенному символу (по умолчанию это пробел). Про отличия функций от методов мы поговорим позже, а пока достаточно запомнить, что методы пишутся через точку после переменной / константы. У методов тоже могут быть аргументы! Вот так:\n",
    "\n",
    "* **function(x)** -- функция, e.g. len('the_cat_is_on_the_mat')\n",
    "* **x.method(y)** -- метод, e.g. 'the_cat_is_on_themat'.split('')\n",
    "\n",
    "Можно также создать пустой список."
   ]
  },
  {
   "cell_type": "code",
   "execution_count": 15,
   "metadata": {},
   "outputs": [
    {
     "name": "stdout",
     "output_type": "stream",
     "text": [
      "[]\n"
     ]
    }
   ],
   "source": [
    "new_list = []\n",
    "print(new_list)"
   ]
  },
  {
   "cell_type": "markdown",
   "metadata": {},
   "source": [
    "Списки можно складывать."
   ]
  },
  {
   "cell_type": "code",
   "execution_count": 16,
   "metadata": {},
   "outputs": [
    {
     "name": "stdout",
     "output_type": "stream",
     "text": [
      "['The', 'cat', 'is', 'on', 'the', 'mat', 'It', 'is', 'sleeping']\n"
     ]
    }
   ],
   "source": [
    "more_words = words + [\"It\", \"is\", \"sleeping\"]\n",
    "print(more_words)"
   ]
  },
  {
   "cell_type": "markdown",
   "metadata": {},
   "source": [
    "Как и с числами, результат сложения можно записывать в ту же самую переменную."
   ]
  },
  {
   "cell_type": "code",
   "execution_count": 17,
   "metadata": {},
   "outputs": [
    {
     "name": "stdout",
     "output_type": "stream",
     "text": [
      "4\n",
      "['a', 'o', 'u', 'e', 'i']\n"
     ]
    }
   ],
   "source": [
    "x = 1\n",
    "x = x + 3\n",
    "print(x)\n",
    "\n",
    "vowels = ['a', 'o', 'u']\n",
    "vowels = vowels + ['e', 'i']\n",
    "print(vowels)"
   ]
  },
  {
   "cell_type": "markdown",
   "metadata": {},
   "source": [
    "А еще можно просто добавить элемент в конец списка. Это называется `append()` и пишется через точку после названия списка. Вот так:"
   ]
  },
  {
   "cell_type": "code",
   "execution_count": 18,
   "metadata": {},
   "outputs": [
    {
     "name": "stdout",
     "output_type": "stream",
     "text": [
      "['a', 'o', 'u', 'e', 'i', 'æ']\n"
     ]
    }
   ],
   "source": [
    "vowels.append('æ')\n",
    "print(vowels)"
   ]
  },
  {
   "cell_type": "markdown",
   "metadata": {},
   "source": [
    "Раз все элементы списка имеют порядковые номера, значит можно вызвать элемент по номеру. **NB!** Нумерация начинается с нуля!!!\n",
    "\n",
    "Можно считать элементы не только с начала, но и с конца. В таком случае нумерация начинается с     -1.\n",
    "\n",
    "Чтобы вызвать элемент по его порядковому номеру, или **индексу**, нужно записать этот индекс в [ ] после названия списка."
   ]
  },
  {
   "cell_type": "code",
   "execution_count": 19,
   "metadata": {},
   "outputs": [
    {
     "name": "stdout",
     "output_type": "stream",
     "text": [
      "a\n",
      "æ\n"
     ]
    }
   ],
   "source": [
    "print(vowels[0])  # первый элемент списка\n",
    "print(vowels[-1]) # последний элемент списка"
   ]
  },
  {
   "cell_type": "markdown",
   "metadata": {},
   "source": [
    "Кроме того, можно вызывать сразу несколько элементов, сделав т.н. **срез** (slice)."
   ]
  },
  {
   "cell_type": "code",
   "execution_count": 20,
   "metadata": {},
   "outputs": [
    {
     "name": "stdout",
     "output_type": "stream",
     "text": [
      "['o', 'u', 'e', 'i', 'æ']\n",
      "['a', 'o', 'u', 'e']\n",
      "['o', 'u']\n"
     ]
    }
   ],
   "source": [
    "print(vowels[1:])  # все элементы, начиная со 2-го (включительно)\n",
    "print(vowels[:-2]) # все элементы до предпоследнего (не включая его)\n",
    "print(vowels[1:3]) # элементы от 2 до 4 (включая 2 и не включая 4)"
   ]
  },
  {
   "cell_type": "markdown",
   "metadata": {},
   "source": [
    "### Кортежи\n",
    "\n",
    "**Кортеж** (tuple) -- это тот же массив с проиндексированными элементами, только неизменяемый. Создать его тоже можно разными способами. Элементами могут быть данные любого типа. Записываются кортежи в ( )."
   ]
  },
  {
   "cell_type": "code",
   "execution_count": 36,
   "metadata": {},
   "outputs": [
    {
     "name": "stdout",
     "output_type": "stream",
     "text": [
      "()\n",
      "('brother', 'sister')\n",
      "('the', 'cat', 'is', 'on', 'the', 'mat')\n",
      "('t', 'h', 'e', ' ', 'c', 'a', 't', ' ', 'i', 's', ' ', 'o', 'n', ' ', 't', 'h', 'e', ' ', 'm', 'a', 't')\n"
     ]
    }
   ],
   "source": [
    "# пустой кортеж\n",
    "new_tuple = ()\n",
    "print(new_tuple)\n",
    "\n",
    "# непустой кортеж\n",
    "siblings = ('brother', 'sister')\n",
    "print(siblings)\n",
    "\n",
    "# кортеж из списка\n",
    "words = tuple(words)\n",
    "print(words)\n",
    "\n",
    "# кортеж из строки\n",
    "letters = tuple(sentence) # строка разбивается на минимальные единицы, т.е. посимвольно\n",
    "print(letters)"
   ]
  },
  {
   "cell_type": "markdown",
   "metadata": {},
   "source": [
    "Кортежи, как и списки, поддерживают операции сложения и умножения, но просто добавить элемент в кортеж нельзя!"
   ]
  },
  {
   "cell_type": "code",
   "execution_count": 22,
   "metadata": {},
   "outputs": [
    {
     "name": "stdout",
     "output_type": "stream",
     "text": [
      "('The', 'cat', 'is', 'on', 'the', 'mat', 'brother', 'sister')\n",
      "('brother', 'sister', 'brother', 'sister', 'brother', 'sister')\n"
     ]
    }
   ],
   "source": [
    "words += siblings # прибавляем siblings к words и записываем результат в words\n",
    "print(words)\n",
    "\n",
    "big_family = siblings * 3\n",
    "print(big_family)"
   ]
  },
  {
   "cell_type": "markdown",
   "metadata": {},
   "source": [
    "Элемент(ы) кортежа можно вызвать по индексу точно так же, как элементы списка."
   ]
  },
  {
   "cell_type": "code",
   "execution_count": 23,
   "metadata": {},
   "outputs": [
    {
     "name": "stdout",
     "output_type": "stream",
     "text": [
      "The\n",
      "sister\n",
      "('is', 'on', 'the')\n"
     ]
    }
   ],
   "source": [
    "print(words[0])   # первый элемент кортежа\n",
    "print(words[-1])  # последний элемент кортежа\n",
    "print(words[2:5]) # элементы кортежа со 2 по 5 (включая 2 и не включая 5)"
   ]
  },
  {
   "cell_type": "markdown",
   "metadata": {},
   "source": [
    "### Множества\n",
    "\n",
    "**Множество** (set) -- это такая структура данных, где элементы не могут повторяться. Хранятся они в неупорядоченном виде, т.е. индексов у них нет. Элементами множества могут быть данные любого типа."
   ]
  },
  {
   "cell_type": "code",
   "execution_count": 24,
   "metadata": {},
   "outputs": [
    {
     "name": "stdout",
     "output_type": "stream",
     "text": [
      "{'on', 'the', 'is', 'mat', 'cat'}\n",
      "{'elephant', 'fox', 'cat', 'dog', 'crocodile'}\n"
     ]
    }
   ],
   "source": [
    "# создаем множество из списка (массива)\n",
    "\n",
    "sentence = \"the cat is on the mat\"\n",
    "words = set(sentence.split())  # превращаем список, который возвращает split(), в массив\n",
    "animals = set(['cat', 'dog', 'elephant', 'crocodile', 'fox', 'cat', 'elephant'])\n",
    "\n",
    "print(words)\n",
    "print(animals)"
   ]
  },
  {
   "cell_type": "code",
   "execution_count": 25,
   "metadata": {},
   "outputs": [
    {
     "name": "stdout",
     "output_type": "stream",
     "text": [
      "{'c', 'o', 'a', 'n', 'h', ' ', 's', 't', 'i', 'm', 'e'}\n"
     ]
    }
   ],
   "source": [
    "# создаем множество из строки\n",
    "\n",
    "letters = set(sentence)  # разбивает строку на минимальные элементы, т.е. посимвольно\n",
    "print(letters)"
   ]
  },
  {
   "cell_type": "markdown",
   "metadata": {},
   "source": [
    "Обратите внимание, что все элементы получившихся множеств уникальны! Если вам нужно избавиться от повторов в данных, то самое простое решение -- это превратить их в множество.\n",
    "\n",
    "Множества нельзя складывать, зато можно добавлять в них элементы -- это делается функцией `add()`, которая тоже пишется через точку после названия множества."
   ]
  },
  {
   "cell_type": "code",
   "execution_count": 26,
   "metadata": {},
   "outputs": [
    {
     "name": "stdout",
     "output_type": "stream",
     "text": [
      "{'elephant', 'tiger', 'fox', 'cat', 'dog', 'crocodile'}\n"
     ]
    }
   ],
   "source": [
    "animals.add('tiger')\n",
    "print(animals)"
   ]
  },
  {
   "cell_type": "markdown",
   "metadata": {},
   "source": [
    "Пустое множество создать тоже можно."
   ]
  },
  {
   "cell_type": "code",
   "execution_count": 27,
   "metadata": {},
   "outputs": [
    {
     "name": "stdout",
     "output_type": "stream",
     "text": [
      "set()\n"
     ]
    }
   ],
   "source": [
    "new_set = set() # обратите внимание, что просто скобочек в данном случае недостаточно!\n",
    "print(new_set)"
   ]
  },
  {
   "cell_type": "markdown",
   "metadata": {},
   "source": [
    "Множества поддерживают разные специальные операции, которых нельзя так же просто осуществить с другими структурами данных."
   ]
  },
  {
   "cell_type": "code",
   "execution_count": 1,
   "metadata": {},
   "outputs": [
    {
     "name": "stdout",
     "output_type": "stream",
     "text": [
      "{1, 2, 3, 4, 5, 6, 7, 8, 9}\n",
      "{4, 5, 6}\n",
      "{1, 2, 3}\n",
      "{1, 2, 3, 7, 8, 9}\n"
     ]
    }
   ],
   "source": [
    "a = set([1, 2, 3, 4, 5, 6])\n",
    "b = set([4, 5, 6, 7, 8, 9])\n",
    "\n",
    "# объединение\n",
    "c = a | b\n",
    "print(c)\n",
    "\n",
    "# пересечение\n",
    "c = a & b\n",
    "print(c)\n",
    "\n",
    "# разность\n",
    "c = a - b\n",
    "print(c)\n",
    "\n",
    "# симметрическая разность, то есть элементы, входящие в a или в b, но не в оба множества одновременно\n",
    "c = a ^ b\n",
    "print(c)"
   ]
  },
  {
   "cell_type": "markdown",
   "metadata": {},
   "source": [
    "О словарях мы поговорим в следующий раз, а теперь вернемся к встроенным функциям. \n",
    "\n",
    "## Некоторые встроенные функции\n",
    "\n",
    "О функциях для работы с типами данных -- `type(), str(), int(), float(), bool()` -- и со структурами данных -- `list(), tuple(), set(), dict()` -- уже говорилось выше, функция `input()` объяснялась в лекции, а с `print()` и так все понятно. Остались (пока что) `len()`, `sum()` и `count()`. \n",
    "\n",
    "### len()\n",
    "\n",
    "С помощью `len()` можно узнать длину выражения в скобках. Аргументом этой функции может быть строка или любая структура данных."
   ]
  },
  {
   "cell_type": "code",
   "execution_count": 28,
   "metadata": {},
   "outputs": [
    {
     "name": "stdout",
     "output_type": "stream",
     "text": [
      "21\n",
      "6\n",
      "6\n",
      "5\n"
     ]
    }
   ],
   "source": [
    "# строка\n",
    "sentence = \"the cat is on the mat\"\n",
    "print(len(sentence)) # количество символов в строке\n",
    "\n",
    "# список\n",
    "words = sentence.split()\n",
    "print(len(words)) # количество элементов в списке\n",
    "\n",
    "# кортеж\n",
    "words_tup = tuple(words)\n",
    "print(len(words_tup)) # количество элементов в кортеже\n",
    "\n",
    "# множество\n",
    "words_set = set(words)\n",
    "print(len(words_set)) # количество элементов в множестве"
   ]
  },
  {
   "cell_type": "markdown",
   "metadata": {},
   "source": [
    "С числовыми данными такого сделать не получится!"
   ]
  },
  {
   "cell_type": "code",
   "execution_count": 29,
   "metadata": {},
   "outputs": [
    {
     "ename": "TypeError",
     "evalue": "object of type 'int' has no len()",
     "output_type": "error",
     "traceback": [
      "\u001b[0;31m---------------------------------------------------------------------------\u001b[0m",
      "\u001b[0;31mTypeError\u001b[0m                                 Traceback (most recent call last)",
      "\u001b[0;32m<ipython-input-29-2a603e6ce0dc>\u001b[0m in \u001b[0;36m<module>\u001b[0;34m()\u001b[0m\n\u001b[1;32m      1\u001b[0m \u001b[0mx\u001b[0m \u001b[1;33m=\u001b[0m \u001b[1;36m34\u001b[0m\u001b[1;33m\u001b[0m\u001b[0m\n\u001b[0;32m----> 2\u001b[0;31m \u001b[0mprint\u001b[0m\u001b[1;33m(\u001b[0m\u001b[0mlen\u001b[0m\u001b[1;33m(\u001b[0m\u001b[0mx\u001b[0m\u001b[1;33m)\u001b[0m\u001b[1;33m)\u001b[0m\u001b[1;33m\u001b[0m\u001b[0m\n\u001b[0m",
      "\u001b[0;31mTypeError\u001b[0m: object of type 'int' has no len()"
     ]
    }
   ],
   "source": [
    "x = 34\n",
    "print(len(x))"
   ]
  },
  {
   "cell_type": "markdown",
   "metadata": {
    "collapsed": true
   },
   "source": [
    "### sum()\n",
    "\n",
    "Эта функция принимает на вход один аргумент -- какую либо структуру данных, внутри которой лежат целые и/или дробные числа, и складывает их."
   ]
  },
  {
   "cell_type": "code",
   "execution_count": 32,
   "metadata": {},
   "outputs": [
    {
     "name": "stdout",
     "output_type": "stream",
     "text": [
      "78\n",
      "89.9\n",
      "915\n"
     ]
    }
   ],
   "source": [
    "# сумма чисел в кортеже\n",
    "print(sum((5, 8, 56, 9))) # давайте посчитаем скобки!\n",
    "\n",
    "# сумма чисел в списке\n",
    "print(sum([78, 4, 7.9])) # внутри могут быть и целые, и дробные числа\n",
    "\n",
    "# сумма чисел в множестве\n",
    "my_set = set([7, 34, 874])  # здесь список превращается в множество\n",
    "print(sum(my_set))"
   ]
  },
  {
   "cell_type": "markdown",
   "metadata": {},
   "source": [
    "Если внутри кортежа, списка или множества **не** числовые даные, то ничего не получится!"
   ]
  },
  {
   "cell_type": "code",
   "execution_count": 35,
   "metadata": {},
   "outputs": [
    {
     "ename": "TypeError",
     "evalue": "unsupported operand type(s) for +: 'int' and 'str'",
     "output_type": "error",
     "traceback": [
      "\u001b[0;31m---------------------------------------------------------------------------\u001b[0m",
      "\u001b[0;31mTypeError\u001b[0m                                 Traceback (most recent call last)",
      "\u001b[0;32m<ipython-input-35-f2373e20e81b>\u001b[0m in \u001b[0;36m<module>\u001b[0;34m()\u001b[0m\n\u001b[0;32m----> 1\u001b[0;31m \u001b[0mprint\u001b[0m\u001b[1;33m(\u001b[0m\u001b[0msum\u001b[0m\u001b[1;33m(\u001b[0m\u001b[1;33m[\u001b[0m\u001b[1;34m'cat'\u001b[0m\u001b[1;33m,\u001b[0m \u001b[1;34m'dog'\u001b[0m\u001b[1;33m,\u001b[0m \u001b[1;34m'elephant'\u001b[0m\u001b[1;33m]\u001b[0m\u001b[1;33m)\u001b[0m\u001b[1;33m)\u001b[0m\u001b[1;33m\u001b[0m\u001b[0m\n\u001b[0m",
      "\u001b[0;31mTypeError\u001b[0m: unsupported operand type(s) for +: 'int' and 'str'"
     ]
    }
   ],
   "source": [
    "print(sum(['cat', 'dog', 'elephant']))"
   ]
  },
  {
   "cell_type": "markdown",
   "metadata": {},
   "source": [
    "Наверное, вы уже обратили внимание на то, что аргументом функции может быть другая функция, как в некоторых из приведенных выше примеров."
   ]
  },
  {
   "cell_type": "code",
   "execution_count": 37,
   "metadata": {},
   "outputs": [
    {
     "name": "stdout",
     "output_type": "stream",
     "text": [
      "89.9\n",
      "21\n",
      "3\n"
     ]
    }
   ],
   "source": [
    "# sum() -- аргумент print(), список [78, 4, 7.9] -- аргумент sum()\n",
    "print(sum([78, 4, 7.9]))  \n",
    "\n",
    "# len() -- аргумент print(), переменная sentence -- аргумент len()\n",
    "print(len(sentence))\n",
    "\n",
    "# len() -- аргумент print(), константа \"cat\" -- аргумент len()\n",
    "print(len(\"cat\"))"
   ]
  },
  {
   "cell_type": "markdown",
   "metadata": {},
   "source": [
    "Это называется **вложенностью** и очень удобно, когда не хочется плодить лишние переменные. Однако лучше ею не злоупотреблять! Вот такое выражение прекрасно работает, однако человеку его понять достаточно сложно (а в питоне, как мы помним, понятность для человека -- одно из важнейших правил написания кода)."
   ]
  },
  {
   "cell_type": "code",
   "execution_count": 38,
   "metadata": {},
   "outputs": [
    {
     "name": "stdout",
     "output_type": "stream",
     "text": [
      "2.0\n"
     ]
    }
   ],
   "source": [
    "print(float(len(set(('cat', 'dog', 'cat')))))  # что тут произошло?"
   ]
  },
  {
   "cell_type": "markdown",
   "metadata": {},
   "source": [
    "### count()\n",
    "\n",
    "`count()` -- это метод, позволяющий считать количество вхождений указанного аргумента в строке, в списке или в кортеже. Поскольку это метод, пишется он через точку после константы/переменной."
   ]
  },
  {
   "cell_type": "code",
   "execution_count": 11,
   "metadata": {},
   "outputs": [
    {
     "name": "stdout",
     "output_type": "stream",
     "text": [
      "2\n",
      "4\n",
      "3\n"
     ]
    }
   ],
   "source": [
    "# в строке\n",
    "print(\"the cat is on the mat\".count(\"the\"))\n",
    "\n",
    "# в кортеже\n",
    "print((2, 2, 3, 2, 2, 8).count(2))\n",
    "\n",
    "# в списке\n",
    "print([True, False, False, True, True].count(True))"
   ]
  },
  {
   "cell_type": "markdown",
   "metadata": {},
   "source": [
    "## Условные выражения\n",
    "\n",
    "Иногда бывает нужно сделать так, чтобы действие выполнялось только при определенном условии. Для этого в питоне есть специальные команды: `if, elif, else`. \n",
    "\n",
    "Синтаксис условных конструкций таков:\n",
    "\n",
    "* Сначала `if`, затем условие и двоеточие\n",
    "* На следующей строке после **отступа** -- действие которое нужно выполнить\n",
    "* На следующей строке **без отступа** -- `elif` и следующее условие, если оно есть, и двоеточие\n",
    "* На следующей строке **с отступом** -- действие, которое нужно выполнить после условия №2\n",
    "* На следующей строке **без отступа** -- `else` и двоеточие\n",
    "* На следующей строке **с отступом** -- действие, которое нужно выполнить, если не выполняется ни одно из условий \n",
    "\n",
    "Условий может быть сколько угодно. Первое из них обязательно пишется с `if`, остальные -- с `elif`; конструкция с `else` не обязательна. Можно комбинировать условия с помощью операторов `and` и `or`."
   ]
  },
  {
   "cell_type": "code",
   "execution_count": 21,
   "metadata": {},
   "outputs": [
    {
     "name": "stdout",
     "output_type": "stream",
     "text": [
      "Введите ваш год рождения\n",
      "2011\n",
      "Как рано вы научились обращаться с компьютером!\n"
     ]
    }
   ],
   "source": [
    "year = input(\"Введите ваш год рождения\\n\")\n",
    "\n",
    "if len(year) != 4:\n",
    "    print(\"Введено неверное число\")\n",
    "else:\n",
    "    year = int(year)\n",
    "    if year <= 0:\n",
    "        print(\"Вы родились до нашей эры?!\")\n",
    "    elif year > 0 and year < 1900:\n",
    "        print(\"Вы родились до XX века?!\")\n",
    "    elif year > 2010:\n",
    "        print(\"Как рано вы научились обращаться с компьютером!\")\n",
    "    else:\n",
    "        age = 2017 - year\n",
    "        print(\"К началу 2018 года вам было\", age)"
   ]
  },
  {
   "cell_type": "markdown",
   "metadata": {},
   "source": [
    "Также можно устанавливать отрицательное условие с помощью оператора `not` и проверять наличие некоторого значения в строке или структуре данных с помощью оператора `in`."
   ]
  },
  {
   "cell_type": "code",
   "execution_count": 2,
   "metadata": {},
   "outputs": [
    {
     "name": "stdout",
     "output_type": "stream",
     "text": [
      "Hurray!\n"
     ]
    }
   ],
   "source": [
    "if \"cat\" not in \"cats are fantastic\":\n",
    "    print(\"How is that possible?!\")\n",
    "else:\n",
    "    print(\"Hurray!\")"
   ]
  },
  {
   "cell_type": "code",
   "execution_count": 58,
   "metadata": {},
   "outputs": [
    {
     "name": "stdout",
     "output_type": "stream",
     "text": [
      "['elephant', 'crocodile', 'tiger']\n"
     ]
    }
   ],
   "source": [
    "animals = ['elephant', 'crocodile']\n",
    "\n",
    "if not 'tiger' in animals:\n",
    "    animals.append('tiger')\n",
    "print(animals)"
   ]
  },
  {
   "cell_type": "markdown",
   "metadata": {},
   "source": [
    "**Отступы** (indents) и двоеточия -- основные элементы питоновского синтаксиса. Код в питоне имеет древовидную структуру (напоминает html, правда?) и каждый последующий (= зависимый от предыдущего) уровень отделяется новым отступом. \n",
    "\n",
    "Отступы обозначаются 4 пробелами или знаком табуляции, однако питон не терпит, когда эти обозначения смешиваются внутри одного скрипта! Большинство IDE сами ставят заменяют табуляцию на 4 пробела, но если вы пишете код в текстовом реадакторе, то, возможно, этот параметр придется настроить."
   ]
  },
  {
   "cell_type": "markdown",
   "metadata": {},
   "source": [
    "### Задание №1\n",
    "\n",
    "1. Дано стихотворение\n",
    "\n",
    "        живут на земле\n",
    "        существа неземной красоты.\n",
    "        я думаю, ты догадался,\n",
    "        что это - коты.\n",
    "        (да, кошки - хорошее слово, \n",
    "        научное слово, но ты,\n",
    "        читатель, забудь это слово\n",
    "        и помни лишь слово коты!)\n",
    "        коты грациозны -\n",
    "        какая гимнастка\n",
    "        сравнится с котом?\n",
    "        взгляни, например,\n",
    "        как он лижет себя под хвостом!\n",
    "        коты музыкальны -\n",
    "        не верь, о читатель,\n",
    "        пустым разговорам,\n",
    "        что будто кошачий концерт\n",
    "        не сравнится с ангельским хором...\n",
    "        а впрочем, коты\n",
    "        не боятся людской клеветы.\n",
    "        коты - они выше мирской суеты.\n",
    "        поверь, словно светоч среди темноты,\n",
    "        нам посланы свыше коты!..\n",
    "        но тот, кто не хочет\n",
    "        (а ты ведь не хочешь?)\n",
    "        с котами расстаться,\n",
    "        тот должен серьёзно\n",
    "        (да, очень серьёзно!)\n",
    "        с котами считаться.\n",
    "        наука открыла:\n",
    "        природа не можеть терпеть пустоты.\n",
    "        добавлю: особенно -\n",
    "        лучшая часть этой самой природы -\n",
    "        коты.\n",
    "        держать на голодном пайке?\n",
    "        говорят,\n",
    "        можно так обращаться с людьми...\n",
    "        но если ты держишь котов,\n",
    "        то корми, и корми, и корми!\n",
    "        коты в нашем доме\n",
    "        покой и уют создают, -\n",
    "        но сами коты\n",
    "        тоже любят покой и уют!\n",
    "        и если, допустим,\n",
    "        внезапно захочешь\n",
    "        ударить в тамтам,\n",
    "        сначала подумай,\n",
    "        приятно ли это котам!\n",
    "        а главное - даже не пробуй\n",
    "        к котам обращаться \"на ты\",\n",
    "        поскольку любой,\n",
    "        самый маленький кот -\n",
    "        это тоже коты!\n",
    "        советую не забывать,\n",
    "        что коты -\n",
    "        несомненные родичи тигров,\n",
    "        и помнить народную мудрость\n",
    "        (её я вынес в эпиграф).\n",
    "        осталось добавить,\n",
    "        что тех, кто не хочет\n",
    "        серьёзно считаться с котами,\n",
    "        коты (и вполне справедливо!)\n",
    "        считают скотами!\n",
    "2. Нужно записать стихотворение в переменную\n",
    "3. Затем разбить его на массив слов по пробелам\n",
    "4. Распечатать общее количество слов\n",
    "5. Распечатать количество уникальных слов\n",
    "6. Посчитать количество вхождений слова \"коты\"\n",
    "7. Посчитать количество строк в стихотворении (подсказка: строки разделяются символом `\\n`)\n",
    "8. Обрезать пунктуацию и снова посчитать количество вхождений слова \"коты\"\n",
    "\n",
    "Пунктуация обрезается так:"
   ]
  },
  {
   "cell_type": "code",
   "execution_count": 10,
   "metadata": {},
   "outputs": [
    {
     "name": "stdout",
     "output_type": "stream",
     "text": [
      "!\"#$%&'()*+,-./:;<=>?@[\\]^_`{|}~\n",
      "['но', 'тот', 'кто', 'не', 'хочет', 'а', 'ты', 'ведь', 'не', 'хочешь', 'с', 'котами', 'расстаться']\n"
     ]
    }
   ],
   "source": [
    "# punctuation - это просто строка со знаками препинания\n",
    "from string import punctuation\n",
    "print(punctuation)\n",
    "\n",
    "sentence = \"\"\"но тот, кто не хочет\n",
    " (а ты ведь не хочешь?)\n",
    " с котами расстаться,\"\"\"\n",
    "\n",
    "words = sentence.split()\n",
    "words = [w.strip(punctuation) for w in words]\n",
    "print(words)"
   ]
  },
  {
   "cell_type": "markdown",
   "metadata": {},
   "source": [
    "### Задание 2\n",
    "\n",
    "1. Есть массив слов из предыдущего стихотворения (с обрезанной пунктуацией)\n",
    "2. Пользователь должен ввести с клавиатуры какое-нибудь слово\n",
    "3. Проверяем, есть ли слово в массиве: если нет, добавляем его туда и печатаем \"Слово такое-то добавлено\", а если есть, то печатаем ответ \"Слово такое-то встречается в тексте столько-то раз\""
   ]
  }
 ],
 "metadata": {
  "kernelspec": {
   "display_name": "Python 3",
   "language": "python",
   "name": "python3"
  },
  "language_info": {
   "codemirror_mode": {
    "name": "ipython",
    "version": 3
   },
   "file_extension": ".py",
   "mimetype": "text/x-python",
   "name": "python",
   "nbconvert_exporter": "python",
   "pygments_lexer": "ipython3",
   "version": "3.6.6"
  }
 },
 "nbformat": 4,
 "nbformat_minor": 2
}
